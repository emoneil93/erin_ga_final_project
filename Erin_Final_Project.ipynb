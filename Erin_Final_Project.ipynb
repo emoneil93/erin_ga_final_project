{
 "cells": [
  {
   "cell_type": "markdown",
   "metadata": {},
   "source": [
    "# Overview\n",
    "*Problem statement (what question am I trying to answer?), why this type of work might be useful, how I approached this project, and my findings.*"
   ]
  },
  {
   "cell_type": "markdown",
   "metadata": {},
   "source": [
    "### Objective"
   ]
  },
  {
   "cell_type": "markdown",
   "metadata": {},
   "source": [
    "**Purpose:** Predict users' (MBTI) personality types based on 50 raw text posts provided from Kaggle data set. \n",
    "\n",
    "**Use cases:** Predicting personality features based on written data could be used to better underestand clients, consumers, marketing audiences, or employees. For example, orgnizations could improve collaboration between employees or between employees & bosses by accomodating their personality types (\"E\"s might like to brainstrorm aloud, \"T\"s tend to be more logic-oriented in their thinking.) Marketing platforms take these features into account to create audiences.\n",
    "\n",
    "**Data Source:** https://www.kaggle.com/datasnaek/mbti-type"
   ]
  },
  {
   "cell_type": "markdown",
   "metadata": {},
   "source": [
    "### Approach"
   ]
  },
  {
   "cell_type": "markdown",
   "metadata": {},
   "source": [
    "There are a few ways to predict personality type based on this data:\n",
    "    - Randomly guess (~6% accuracy)\n",
    "    - Always guess most common personality type (~21% accuracy)\n",
    "    - Build a model! (TBD...)"
   ]
  },
  {
   "cell_type": "markdown",
   "metadata": {},
   "source": [
    "### Model performance"
   ]
  },
  {
   "cell_type": "markdown",
   "metadata": {},
   "source": [
    " - **Logistic Regression w/ NLP** generated highest predictive accuracy at <font color=green>**65%**</font>\n",
    "     - Simpler versions of logistic regression also outperformed uninformed guessing, with inclusion of text data driving the bigest increase in accuracy\n",
    " - KNN and Random Forest approaches saw small improvement over uninformed guessing, which is probably due to the fact that they were not informed by raw text data behind derived featured columns"
   ]
  },
  {
   "cell_type": "code",
   "execution_count": 1667,
   "metadata": {},
   "outputs": [
    {
     "data": {
      "text/plain": [
       "<matplotlib.axes._subplots.AxesSubplot at 0x1c79236e10>"
      ]
     },
     "execution_count": 1667,
     "metadata": {},
     "output_type": "execute_result"
    },
    {
     "data": {
      "image/png": "[encoded data removed]",
      "text/plain": [
       "<Figure size 432x288 with 1 Axes>"
      ]
     },
     "metadata": {
      "needs_background": "light"
     },
     "output_type": "display_data"
    }
   ],
   "source": [
    "compare_models.sort_values(by=['accuracy'], ascending = False).plot(kind='bar', x='model', y='accuracy')\n"
   ]
  },
  {
   "cell_type": "markdown",
   "metadata": {},
   "source": [
    "### Next Steps"
   ]
  },
  {
   "cell_type": "markdown",
   "metadata": {},
   "source": [
    "\"Success\" in this sense was 100% correct personality guesses. However, I would assume that a 3/4 match might also be useful for the applications mentioned above. Personality characteristics are also assigned on a spectrum, which none of these models accounts for.\n"
   ]
  },
  {
   "cell_type": "markdown",
   "metadata": {},
   "source": [
    "# Technical Details"
   ]
  },
  {
   "cell_type": "markdown",
   "metadata": {},
   "source": [
    "### Step 1: Import Packages & dataset"
   ]
  },
  {
   "cell_type": "code",
   "execution_count": 1544,
   "metadata": {},
   "outputs": [],
   "source": [
    "import re\n",
    "import string\n",
    "import pandas as pd\n",
    "import numpy as np\n",
    "import scipy as sp\n",
    "import datetime\n",
    "import matplotlib.pyplot as plt\n",
    "import seaborn as sns\n",
    "from sklearn.linear_model import LinearRegression\n",
    "from sklearn.linear_model import LogisticRegression\n",
    "from sklearn.model_selection import train_test_split\n",
    "from sklearn import metrics\n",
    "from textblob import TextBlob, Word\n",
    "from nltk.stem.snowball import SnowballStemmer\n",
    "from sklearn.feature_extraction.text import CountVectorizer, TfidfVectorizer\n",
    "from sklearn.naive_bayes import MultinomialNB\n",
    "from catboost import CatBoostRegressor\n",
    "from catboost import CatBoostClassifier, Pool, cv\n",
    "from sklearn.metrics import accuracy_score\n",
    "from sklearn.ensemble import RandomForestClassifier\n",
    "from sklearn.neighbors import KNeighborsClassifier\n",
    "%matplotlib inline"
   ]
  },
  {
   "cell_type": "code",
   "execution_count": 1545,
   "metadata": {},
   "outputs": [],
   "source": [
    "# import csv data set\n",
    "\n",
    "mbti = pd.read_csv('/Users/emoneil93/Desktop/General_Assembly/kaggle_datasets/MBTI.csv', sep=',')\n"
   ]
  },
  {
   "cell_type": "markdown",
   "metadata": {},
   "source": [
    "### Step 2: Explore & Prepare DataSet\n",
    "*Filter and manipulate existing data, add new feature columns based on provided posts.*"
   ]
  },
  {
   "cell_type": "markdown",
   "metadata": {},
   "source": [
    "#### View preliminary dataset:"
   ]
  },
  {
   "cell_type": "code",
   "execution_count": 1546,
   "metadata": {
    "scrolled": true
   },
   "outputs": [
    {
     "data": {
      "text/html": [
       "<div>\n",
       "<style scoped>\n",
       "    .dataframe tbody tr th:only-of-type {\n",
       "        vertical-align: middle;\n",
       "    }\n",
       "\n",
       "    .dataframe tbody tr th {\n",
       "        vertical-align: top;\n",
       "    }\n",
       "\n",
       "    .dataframe thead th {\n",
       "        text-align: right;\n",
       "    }\n",
       "</style>\n",
       "<table border=\"1\" class=\"dataframe\">\n",
       "  <thead>\n",
       "    <tr style=\"text-align: right;\">\n",
       "      <th></th>\n",
       "      <th>type</th>\n",
       "      <th>posts</th>\n",
       "    </tr>\n",
       "  </thead>\n",
       "  <tbody>\n",
       "    <tr>\n",
       "      <th>0</th>\n",
       "      <td>INFJ</td>\n",
       "      <td>http://www.youtube.com/watch?v=qsXHcwe3krw|htt...</td>\n",
       "    </tr>\n",
       "    <tr>\n",
       "      <th>1</th>\n",
       "      <td>ENTP</td>\n",
       "      <td>I'm finding the lack of me in these posts very...</td>\n",
       "    </tr>\n",
       "    <tr>\n",
       "      <th>2</th>\n",
       "      <td>INTP</td>\n",
       "      <td>Good one  _____   https://www.youtube.com/watc...</td>\n",
       "    </tr>\n",
       "    <tr>\n",
       "      <th>3</th>\n",
       "      <td>INTJ</td>\n",
       "      <td>Dear INTP,   I enjoyed our conversation the ot...</td>\n",
       "    </tr>\n",
       "    <tr>\n",
       "      <th>4</th>\n",
       "      <td>ENTJ</td>\n",
       "      <td>You're fired.|That's another silly misconcepti...</td>\n",
       "    </tr>\n",
       "  </tbody>\n",
       "</table>\n",
       "</div>"
      ],
      "text/plain": [
       "   type                                              posts\n",
       "0  INFJ  http://www.youtube.com/watch?v=qsXHcwe3krw|htt...\n",
       "1  ENTP  I'm finding the lack of me in these posts very...\n",
       "2  INTP  Good one  _____   https://www.youtube.com/watc...\n",
       "3  INTJ  Dear INTP,   I enjoyed our conversation the ot...\n",
       "4  ENTJ  You're fired.|That's another silly misconcepti..."
      ]
     },
     "execution_count": 1546,
     "metadata": {},
     "output_type": "execute_result"
    }
   ],
   "source": [
    "mbti.head()"
   ]
  },
  {
   "cell_type": "markdown",
   "metadata": {},
   "source": [
    "#### Show unique combinations of personality types"
   ]
  },
  {
   "cell_type": "code",
   "execution_count": 1547,
   "metadata": {
    "scrolled": true
   },
   "outputs": [
    {
     "data": {
      "text/plain": [
       "0     INFJ\n",
       "1     ENTP\n",
       "2     INTP\n",
       "3     INTJ\n",
       "4     ENTJ\n",
       "5     ENFJ\n",
       "6     INFP\n",
       "7     ENFP\n",
       "8     ISFP\n",
       "9     ISTP\n",
       "10    ISFJ\n",
       "11    ISTJ\n",
       "12    ESTP\n",
       "13    ESFP\n",
       "14    ESTJ\n",
       "15    ESFJ\n",
       "dtype: object"
      ]
     },
     "execution_count": 1547,
     "metadata": {},
     "output_type": "execute_result"
    }
   ],
   "source": [
    "pd.Series(mbti.type.unique())"
   ]
  },
  {
   "cell_type": "markdown",
   "metadata": {},
   "source": [
    "#### Look at breakdown of data by personality type"
   ]
  },
  {
   "cell_type": "code",
   "execution_count": 1548,
   "metadata": {
    "scrolled": false
   },
   "outputs": [
    {
     "data": {
      "text/html": [
       "<div>\n",
       "<style scoped>\n",
       "    .dataframe tbody tr th:only-of-type {\n",
       "        vertical-align: middle;\n",
       "    }\n",
       "\n",
       "    .dataframe tbody tr th {\n",
       "        vertical-align: top;\n",
       "    }\n",
       "\n",
       "    .dataframe thead th {\n",
       "        text-align: right;\n",
       "    }\n",
       "</style>\n",
       "<table border=\"1\" class=\"dataframe\">\n",
       "  <thead>\n",
       "    <tr style=\"text-align: right;\">\n",
       "      <th></th>\n",
       "      <th>posts</th>\n",
       "      <th>share</th>\n",
       "    </tr>\n",
       "    <tr>\n",
       "      <th>type</th>\n",
       "      <th></th>\n",
       "      <th></th>\n",
       "    </tr>\n",
       "  </thead>\n",
       "  <tbody>\n",
       "    <tr>\n",
       "      <th>INFP</th>\n",
       "      <td>1832</td>\n",
       "      <td>21%</td>\n",
       "    </tr>\n",
       "    <tr>\n",
       "      <th>INFJ</th>\n",
       "      <td>1470</td>\n",
       "      <td>16%</td>\n",
       "    </tr>\n",
       "    <tr>\n",
       "      <th>INTP</th>\n",
       "      <td>1304</td>\n",
       "      <td>15%</td>\n",
       "    </tr>\n",
       "    <tr>\n",
       "      <th>INTJ</th>\n",
       "      <td>1091</td>\n",
       "      <td>12%</td>\n",
       "    </tr>\n",
       "    <tr>\n",
       "      <th>ENTP</th>\n",
       "      <td>685</td>\n",
       "      <td>7%</td>\n",
       "    </tr>\n",
       "    <tr>\n",
       "      <th>ENFP</th>\n",
       "      <td>675</td>\n",
       "      <td>7%</td>\n",
       "    </tr>\n",
       "    <tr>\n",
       "      <th>ISTP</th>\n",
       "      <td>337</td>\n",
       "      <td>3%</td>\n",
       "    </tr>\n",
       "    <tr>\n",
       "      <th>ISFP</th>\n",
       "      <td>271</td>\n",
       "      <td>3%</td>\n",
       "    </tr>\n",
       "    <tr>\n",
       "      <th>ENTJ</th>\n",
       "      <td>231</td>\n",
       "      <td>2%</td>\n",
       "    </tr>\n",
       "    <tr>\n",
       "      <th>ISTJ</th>\n",
       "      <td>205</td>\n",
       "      <td>2%</td>\n",
       "    </tr>\n",
       "    <tr>\n",
       "      <th>ENFJ</th>\n",
       "      <td>190</td>\n",
       "      <td>2%</td>\n",
       "    </tr>\n",
       "    <tr>\n",
       "      <th>ISFJ</th>\n",
       "      <td>166</td>\n",
       "      <td>1%</td>\n",
       "    </tr>\n",
       "    <tr>\n",
       "      <th>ESTP</th>\n",
       "      <td>89</td>\n",
       "      <td>1%</td>\n",
       "    </tr>\n",
       "    <tr>\n",
       "      <th>ESFP</th>\n",
       "      <td>48</td>\n",
       "      <td>0%</td>\n",
       "    </tr>\n",
       "    <tr>\n",
       "      <th>ESFJ</th>\n",
       "      <td>42</td>\n",
       "      <td>0%</td>\n",
       "    </tr>\n",
       "    <tr>\n",
       "      <th>ESTJ</th>\n",
       "      <td>39</td>\n",
       "      <td>0%</td>\n",
       "    </tr>\n",
       "  </tbody>\n",
       "</table>\n",
       "</div>"
      ],
      "text/plain": [
       "      posts share\n",
       "type             \n",
       "INFP   1832   21%\n",
       "INFJ   1470   16%\n",
       "INTP   1304   15%\n",
       "INTJ   1091   12%\n",
       "ENTP    685    7%\n",
       "ENFP    675    7%\n",
       "ISTP    337    3%\n",
       "ISFP    271    3%\n",
       "ENTJ    231    2%\n",
       "ISTJ    205    2%\n",
       "ENFJ    190    2%\n",
       "ISFJ    166    1%\n",
       "ESTP     89    1%\n",
       "ESFP     48    0%\n",
       "ESFJ     42    0%\n",
       "ESTJ     39    0%"
      ]
     },
     "execution_count": 1548,
     "metadata": {},
     "output_type": "execute_result"
    },
    {
     "data": {
      "image/png": "[encoded data removed]",
      "text/plain": [
       "<Figure size 432x288 with 1 Axes>"
      ]
     },
     "metadata": {
      "needs_background": "light"
     },
     "output_type": "display_data"
    }
   ],
   "source": [
    "# construct data frame containing total post count and % total for each distinct personality type\n",
    "\n",
    "total_count = mbti.type.count()\n",
    "personality_shares = pd.DataFrame(mbti[['type', 'posts']].groupby('type').count())\n",
    "personality_shares['share'] = (personality_shares.posts / total_count)\n",
    "personality_shares['share'] = [str(int(x*100)) + '%' for x in personality_shares.share]\n",
    "\n",
    "mbti[['type', 'posts']].groupby('type').count().sort_values(by=['posts'], ascending = False).plot(kind='bar')\n",
    "\n",
    "personality_shares.sort_values(by=['posts'], ascending = False)\n"
   ]
  },
  {
   "cell_type": "markdown",
   "metadata": {},
   "source": [
    "#### Check for nulls:"
   ]
  },
  {
   "cell_type": "code",
   "execution_count": 1549,
   "metadata": {
    "scrolled": true
   },
   "outputs": [
    {
     "data": {
      "text/plain": [
       "type     0\n",
       "posts    0\n",
       "dtype: int64"
      ]
     },
     "execution_count": 1549,
     "metadata": {},
     "output_type": "execute_result"
    }
   ],
   "source": [
    "# check for nulls \n",
    "\n",
    "mbti.isnull().sum()\n"
   ]
  },
  {
   "cell_type": "markdown",
   "metadata": {},
   "source": [
    "#### Reformat raw post text for easier analysis"
   ]
  },
  {
   "cell_type": "code",
   "execution_count": 1550,
   "metadata": {},
   "outputs": [
    {
     "name": "stdout",
     "output_type": "stream",
     "text": [
      "Textblob format: <class 'textblob.blob.TextBlob'>\n"
     ]
    }
   ],
   "source": [
    "# convert to lowercase\n",
    "\n",
    "mbti['posts'] = mbti['posts'].str.lower()\n",
    "\n",
    "# add space after domain names in URLs for easier recognition\n",
    "\n",
    "mbti['posts'] = mbti.posts.replace({'.com/': '.com/ '}, regex=True)\n",
    "\n",
    "# create column in textblock format\n",
    "\n",
    "mbti['textblob_posts'] = [TextBlob(x) for x in mbti.posts]\n",
    "\n",
    "print('Textblob format: ' + str(type(mbti.textblob_posts[0])))\n"
   ]
  },
  {
   "cell_type": "markdown",
   "metadata": {},
   "source": [
    "#### Create functions that will help create new features from raw post text"
   ]
  },
  {
   "cell_type": "code",
   "execution_count": 1551,
   "metadata": {},
   "outputs": [],
   "source": [
    "def english(string):\n",
    "    non_english = []\n",
    "    string = string.lower()\n",
    "    for char in string:\n",
    "        if char.isalnum() == True and char not in 'aäbcdeéfghijklmnopqrstuvwxyz1234567890':\n",
    "            non_english.append(char)\n",
    "        else:\n",
    "            pass\n",
    "    non_english = ''.join(non_english)\n",
    "    return non_english\n",
    "\n",
    "def english_binary(string):\n",
    "    if english(string) == '':\n",
    "        return 1\n",
    "    else:\n",
    "        return 0\n",
    "\n",
    "def assign_e(string):\n",
    "    if string[0] == 'E':\n",
    "        return 1\n",
    "    else:\n",
    "        return 0\n",
    "\n",
    "def assign_n(string):\n",
    "    if string[1] == 'N':\n",
    "        return 1\n",
    "    else:\n",
    "        return 0\n",
    "    \n",
    "def assign_t(string):\n",
    "    if string[2] == 'T':\n",
    "        return 1\n",
    "    else:\n",
    "        return 0\n",
    "\n",
    "def assign_j(string):\n",
    "    if string[3] == 'J':\n",
    "        return 1\n",
    "    else:\n",
    "        return 0"
   ]
  },
  {
   "cell_type": "markdown",
   "metadata": {},
   "source": [
    "#### Generate new feature columns using above functions"
   ]
  },
  {
   "cell_type": "code",
   "execution_count": 1552,
   "metadata": {
    "scrolled": true
   },
   "outputs": [],
   "source": [
    "# evaluate non-english characters\n",
    "\n",
    "mbti['special_characters'] = [english(x) for x in mbti.posts]\n",
    "mbti['english'] = [english_binary(x) for x in mbti.posts]\n",
    "\n",
    "# assign binary values for each of the 4 MBTI characteristics\n",
    "\n",
    "mbti['e'] = [assign_e(x) for x in mbti.type]\n",
    "mbti['n'] = [assign_n(x) for x in mbti.type]\n",
    "mbti['t'] = [assign_t(x) for x in mbti.type]\n",
    "mbti['j'] = [assign_j(x) for x in mbti.type]\n"
   ]
  },
  {
   "cell_type": "code",
   "execution_count": 1553,
   "metadata": {},
   "outputs": [
    {
     "data": {
      "text/plain": [
       "21               ïïè\n",
       "52                 ø\n",
       "83                ââ\n",
       "88                σд\n",
       "146              유재석\n",
       "154     żłååöððáóáóà\n",
       "167    µ好了中文是太易我是英国人\n",
       "184           ˌɪəˈɪɪ\n",
       "185                â\n",
       "214               ˈə\n",
       "Name: special_characters, dtype: object"
      ]
     },
     "execution_count": 1553,
     "metadata": {},
     "output_type": "execute_result"
    }
   ],
   "source": [
    "# look at examles of special characters\n",
    "\n",
    "mbti[mbti['english'] == 0].special_characters.head(10)"
   ]
  },
  {
   "cell_type": "markdown",
   "metadata": {},
   "source": [
    "#### Generate quantitative columns containing info from raw text"
   ]
  },
  {
   "cell_type": "code",
   "execution_count": 1554,
   "metadata": {},
   "outputs": [],
   "source": [
    "# generate other quantitative data extracted from posts\n",
    "\n",
    "mbti['total_length'] = mbti.posts.apply(len)\n"
   ]
  },
  {
   "cell_type": "code",
   "execution_count": 1555,
   "metadata": {
    "scrolled": true
   },
   "outputs": [
    {
     "data": {
      "text/html": [
       "<div>\n",
       "<style scoped>\n",
       "    .dataframe tbody tr th:only-of-type {\n",
       "        vertical-align: middle;\n",
       "    }\n",
       "\n",
       "    .dataframe tbody tr th {\n",
       "        vertical-align: top;\n",
       "    }\n",
       "\n",
       "    .dataframe thead th {\n",
       "        text-align: right;\n",
       "    }\n",
       "</style>\n",
       "<table border=\"1\" class=\"dataframe\">\n",
       "  <thead>\n",
       "    <tr style=\"text-align: right;\">\n",
       "      <th></th>\n",
       "      <th>type</th>\n",
       "      <th>posts</th>\n",
       "      <th>textblob_posts</th>\n",
       "      <th>special_characters</th>\n",
       "      <th>english</th>\n",
       "      <th>e</th>\n",
       "      <th>n</th>\n",
       "      <th>t</th>\n",
       "      <th>j</th>\n",
       "      <th>total_length</th>\n",
       "    </tr>\n",
       "  </thead>\n",
       "  <tbody>\n",
       "    <tr>\n",
       "      <th>0</th>\n",
       "      <td>INFJ</td>\n",
       "      <td>http://www.youtube.com/ watch?v=qsxhcwe3krw|ht...</td>\n",
       "      <td>(h, t, t, p, :, /, /, w, w, w, ., y, o, u, t, ...</td>\n",
       "      <td></td>\n",
       "      <td>1</td>\n",
       "      <td>0</td>\n",
       "      <td>1</td>\n",
       "      <td>0</td>\n",
       "      <td>1</td>\n",
       "      <td>4577</td>\n",
       "    </tr>\n",
       "    <tr>\n",
       "      <th>1</th>\n",
       "      <td>ENTP</td>\n",
       "      <td>i'm finding the lack of me in these posts very...</td>\n",
       "      <td>(i, ', m,  , f, i, n, d, i, n, g,  , t, h, e, ...</td>\n",
       "      <td></td>\n",
       "      <td>1</td>\n",
       "      <td>1</td>\n",
       "      <td>1</td>\n",
       "      <td>1</td>\n",
       "      <td>0</td>\n",
       "      <td>6963</td>\n",
       "    </tr>\n",
       "    <tr>\n",
       "      <th>2</th>\n",
       "      <td>INTP</td>\n",
       "      <td>good one  _____   https://www.youtube.com/ wat...</td>\n",
       "      <td>(g, o, o, d,  , o, n, e,  ,  , _, _, _, _, _, ...</td>\n",
       "      <td></td>\n",
       "      <td>1</td>\n",
       "      <td>0</td>\n",
       "      <td>1</td>\n",
       "      <td>1</td>\n",
       "      <td>0</td>\n",
       "      <td>5171</td>\n",
       "    </tr>\n",
       "    <tr>\n",
       "      <th>3</th>\n",
       "      <td>INTJ</td>\n",
       "      <td>dear intp,   i enjoyed our conversation the ot...</td>\n",
       "      <td>(d, e, a, r,  , i, n, t, p, ,,  ,  ,  , i,  , ...</td>\n",
       "      <td></td>\n",
       "      <td>1</td>\n",
       "      <td>0</td>\n",
       "      <td>1</td>\n",
       "      <td>1</td>\n",
       "      <td>1</td>\n",
       "      <td>6174</td>\n",
       "    </tr>\n",
       "    <tr>\n",
       "      <th>4</th>\n",
       "      <td>ENTJ</td>\n",
       "      <td>you're fired.|that's another silly misconcepti...</td>\n",
       "      <td>(y, o, u, ', r, e,  , f, i, r, e, d, ., |, t, ...</td>\n",
       "      <td></td>\n",
       "      <td>1</td>\n",
       "      <td>1</td>\n",
       "      <td>1</td>\n",
       "      <td>1</td>\n",
       "      <td>1</td>\n",
       "      <td>6016</td>\n",
       "    </tr>\n",
       "  </tbody>\n",
       "</table>\n",
       "</div>"
      ],
      "text/plain": [
       "   type                                              posts  \\\n",
       "0  INFJ  http://www.youtube.com/ watch?v=qsxhcwe3krw|ht...   \n",
       "1  ENTP  i'm finding the lack of me in these posts very...   \n",
       "2  INTP  good one  _____   https://www.youtube.com/ wat...   \n",
       "3  INTJ  dear intp,   i enjoyed our conversation the ot...   \n",
       "4  ENTJ  you're fired.|that's another silly misconcepti...   \n",
       "\n",
       "                                      textblob_posts special_characters  \\\n",
       "0  (h, t, t, p, :, /, /, w, w, w, ., y, o, u, t, ...                      \n",
       "1  (i, ', m,  , f, i, n, d, i, n, g,  , t, h, e, ...                      \n",
       "2  (g, o, o, d,  , o, n, e,  ,  , _, _, _, _, _, ...                      \n",
       "3  (d, e, a, r,  , i, n, t, p, ,,  ,  ,  , i,  , ...                      \n",
       "4  (y, o, u, ', r, e,  , f, i, r, e, d, ., |, t, ...                      \n",
       "\n",
       "   english  e  n  t  j  total_length  \n",
       "0        1  0  1  0  1          4577  \n",
       "1        1  1  1  1  0          6963  \n",
       "2        1  0  1  1  0          5171  \n",
       "3        1  0  1  1  1          6174  \n",
       "4        1  1  1  1  1          6016  "
      ]
     },
     "execution_count": 1555,
     "metadata": {},
     "output_type": "execute_result"
    }
   ],
   "source": [
    "mbti.head()"
   ]
  },
  {
   "cell_type": "markdown",
   "metadata": {},
   "source": [
    "#### Create new feature columns based on elements that appear in text"
   ]
  },
  {
   "cell_type": "code",
   "execution_count": 1556,
   "metadata": {},
   "outputs": [],
   "source": [
    "# create new feature columns\n",
    "\n",
    "mbti['links_count'] = [x.count('.com') for x in mbti.posts]\n",
    "mbti['youtube_count'] = [x.count('youtube.com') for x in mbti.posts]\n",
    "mbti['reddit_count'] = [x.count('reddit.com') for x in mbti.posts]\n",
    "mbti['img_count'] = [x.count('jpg') + x.count('jpeg') for x in mbti.posts]\n",
    "mbti['exclamation_count'] = [x.count('!') for x in mbti.posts]\n",
    "mbti['triple_exclamation_count'] = [x.count('!!!') for x in mbti.posts]\n",
    "mbti['ellipses_count'] = [x.count('...') for x in mbti.posts]\n",
    "mbti['question_count'] = [x.count('?') for x in mbti.posts]\n",
    "mbti['me_count'] = [x.count(' i ') + x.count(' me ') for x in mbti.posts]\n",
    "mbti['you_count'] = [x.count(' you ') + x.count(' your ') for x in mbti.posts]\n",
    "mbti['we_count'] = [x.count(' we ') + x.count(' us ') + x.count(' our ') for x in mbti.posts]\n",
    "mbti['like_count'] = [x.count(' like ') + x.count(' our ') for x in mbti.posts]\n",
    "mbti['love_count'] = [x.count(' love ') + x.count(' our ') for x in mbti.posts]\n",
    "mbti['lol_count'] = [x.count(' lol ') + x.count(' our ') for x in mbti.posts]\n"
   ]
  },
  {
   "cell_type": "markdown",
   "metadata": {},
   "source": [
    "#### Perform sentiment analysis on posts"
   ]
  },
  {
   "cell_type": "code",
   "execution_count": 1557,
   "metadata": {},
   "outputs": [],
   "source": [
    "# perform sentiment analysis on posts in textblob format\n",
    "\n",
    "mbti['sentiment'] = [int(round(x.sentiment.polarity*100, 0)) for x in mbti.textblob_posts]\n"
   ]
  },
  {
   "cell_type": "markdown",
   "metadata": {},
   "source": [
    "#### Look at differences in feature columns by personality type"
   ]
  },
  {
   "cell_type": "code",
   "execution_count": 1668,
   "metadata": {
    "scrolled": true
   },
   "outputs": [
    {
     "data": {
      "text/plain": [
       "<matplotlib.axes._subplots.AxesSubplot at 0x1ab4cc3fd0>"
      ]
     },
     "execution_count": 1668,
     "metadata": {},
     "output_type": "execute_result"
    },
    {
     "data": {
      "image/png": "[encoded data removed]",
      "text/plain": [
       "<Figure size 432x288 with 1 Axes>"
      ]
     },
     "metadata": {
      "needs_background": "light"
     },
     "output_type": "display_data"
    }
   ],
   "source": [
    "mbti[['type', 'sentiment']].groupby('type').mean().sort_values(by=['sentiment'], ascending = False).plot(kind='bar')"
   ]
  },
  {
   "cell_type": "code",
   "execution_count": 1669,
   "metadata": {
    "scrolled": true
   },
   "outputs": [
    {
     "data": {
      "text/plain": [
       "<matplotlib.axes._subplots.AxesSubplot at 0x1c8b660320>"
      ]
     },
     "execution_count": 1669,
     "metadata": {},
     "output_type": "execute_result"
    },
    {
     "data": {
      "image/png": "[encoded data removed]",
      "text/plain": [
       "<Figure size 432x288 with 1 Axes>"
      ]
     },
     "metadata": {
      "needs_background": "light"
     },
     "output_type": "display_data"
    }
   ],
   "source": [
    "mbti[['type', 'youtube_count']].groupby('type').mean().sort_values(by=['youtube_count'], ascending = False).plot(kind='bar')"
   ]
  },
  {
   "cell_type": "code",
   "execution_count": 1670,
   "metadata": {},
   "outputs": [
    {
     "data": {
      "text/plain": [
       "<matplotlib.axes._subplots.AxesSubplot at 0x1b3cdb95f8>"
      ]
     },
     "execution_count": 1670,
     "metadata": {},
     "output_type": "execute_result"
    },
    {
     "data": {
      "image/png": "[encoded data removed]",
      "text/plain": [
       "<Figure size 432x288 with 1 Axes>"
      ]
     },
     "metadata": {
      "needs_background": "light"
     },
     "output_type": "display_data"
    }
   ],
   "source": [
    "mbti[['type', 'we_count']].groupby('type').mean().sort_values(by=['we_count'], ascending = False).plot(kind='bar')\n"
   ]
  },
  {
   "cell_type": "code",
   "execution_count": 1674,
   "metadata": {},
   "outputs": [
    {
     "data": {
      "text/plain": [
       "<matplotlib.axes._subplots.AxesSubplot at 0x1c5968f898>"
      ]
     },
     "execution_count": 1674,
     "metadata": {},
     "output_type": "execute_result"
    },
    {
     "data": {
      "image/png": "[encoded data removed]",
      "text/plain": [
       "<Figure size 432x288 with 1 Axes>"
      ]
     },
     "metadata": {
      "needs_background": "light"
     },
     "output_type": "display_data"
    }
   ],
   "source": [
    "mbti[['type', 'lol_count']].groupby('type').mean().sort_values(by=['lol_count'], ascending = False).plot(kind='bar')\n"
   ]
  },
  {
   "cell_type": "markdown",
   "metadata": {},
   "source": [
    "#### Create dummy variables for personality type <font color=red><<didn't end up using this</font>\n"
   ]
  },
  {
   "cell_type": "code",
   "execution_count": 1558,
   "metadata": {},
   "outputs": [],
   "source": [
    "# generate dummy variables from type category\n",
    "\n",
    "mbti_dummies = pd.get_dummies(mbti.type, prefix='type')\n",
    "mbti_dummies.drop(mbti_dummies.columns[0], axis=1, inplace=True)\n",
    "\n",
    "# concat dummy variables\n",
    "\n",
    "mbti_dummy = pd.concat([mbti, mbti_dummies], axis = 1)\n"
   ]
  },
  {
   "cell_type": "code",
   "execution_count": 1559,
   "metadata": {},
   "outputs": [
    {
     "data": {
      "text/html": [
       "<div>\n",
       "<style scoped>\n",
       "    .dataframe tbody tr th:only-of-type {\n",
       "        vertical-align: middle;\n",
       "    }\n",
       "\n",
       "    .dataframe tbody tr th {\n",
       "        vertical-align: top;\n",
       "    }\n",
       "\n",
       "    .dataframe thead th {\n",
       "        text-align: right;\n",
       "    }\n",
       "</style>\n",
       "<table border=\"1\" class=\"dataframe\">\n",
       "  <thead>\n",
       "    <tr style=\"text-align: right;\">\n",
       "      <th></th>\n",
       "      <th>posts</th>\n",
       "      <th>share</th>\n",
       "    </tr>\n",
       "    <tr>\n",
       "      <th>type</th>\n",
       "      <th></th>\n",
       "      <th></th>\n",
       "    </tr>\n",
       "  </thead>\n",
       "  <tbody>\n",
       "    <tr>\n",
       "      <th>INFP</th>\n",
       "      <td>1832</td>\n",
       "      <td>21%</td>\n",
       "    </tr>\n",
       "    <tr>\n",
       "      <th>INFJ</th>\n",
       "      <td>1470</td>\n",
       "      <td>16%</td>\n",
       "    </tr>\n",
       "    <tr>\n",
       "      <th>INTP</th>\n",
       "      <td>1304</td>\n",
       "      <td>15%</td>\n",
       "    </tr>\n",
       "    <tr>\n",
       "      <th>INTJ</th>\n",
       "      <td>1091</td>\n",
       "      <td>12%</td>\n",
       "    </tr>\n",
       "    <tr>\n",
       "      <th>ENTP</th>\n",
       "      <td>685</td>\n",
       "      <td>7%</td>\n",
       "    </tr>\n",
       "    <tr>\n",
       "      <th>ENFP</th>\n",
       "      <td>675</td>\n",
       "      <td>7%</td>\n",
       "    </tr>\n",
       "    <tr>\n",
       "      <th>ISTP</th>\n",
       "      <td>337</td>\n",
       "      <td>3%</td>\n",
       "    </tr>\n",
       "    <tr>\n",
       "      <th>ISFP</th>\n",
       "      <td>271</td>\n",
       "      <td>3%</td>\n",
       "    </tr>\n",
       "    <tr>\n",
       "      <th>ENTJ</th>\n",
       "      <td>231</td>\n",
       "      <td>2%</td>\n",
       "    </tr>\n",
       "    <tr>\n",
       "      <th>ISTJ</th>\n",
       "      <td>205</td>\n",
       "      <td>2%</td>\n",
       "    </tr>\n",
       "    <tr>\n",
       "      <th>ENFJ</th>\n",
       "      <td>190</td>\n",
       "      <td>2%</td>\n",
       "    </tr>\n",
       "    <tr>\n",
       "      <th>ISFJ</th>\n",
       "      <td>166</td>\n",
       "      <td>1%</td>\n",
       "    </tr>\n",
       "    <tr>\n",
       "      <th>ESTP</th>\n",
       "      <td>89</td>\n",
       "      <td>1%</td>\n",
       "    </tr>\n",
       "    <tr>\n",
       "      <th>ESFP</th>\n",
       "      <td>48</td>\n",
       "      <td>0%</td>\n",
       "    </tr>\n",
       "    <tr>\n",
       "      <th>ESFJ</th>\n",
       "      <td>42</td>\n",
       "      <td>0%</td>\n",
       "    </tr>\n",
       "    <tr>\n",
       "      <th>ESTJ</th>\n",
       "      <td>39</td>\n",
       "      <td>0%</td>\n",
       "    </tr>\n",
       "  </tbody>\n",
       "</table>\n",
       "</div>"
      ],
      "text/plain": [
       "      posts share\n",
       "type             \n",
       "INFP   1832   21%\n",
       "INFJ   1470   16%\n",
       "INTP   1304   15%\n",
       "INTJ   1091   12%\n",
       "ENTP    685    7%\n",
       "ENFP    675    7%\n",
       "ISTP    337    3%\n",
       "ISFP    271    3%\n",
       "ENTJ    231    2%\n",
       "ISTJ    205    2%\n",
       "ENFJ    190    2%\n",
       "ISFJ    166    1%\n",
       "ESTP     89    1%\n",
       "ESFP     48    0%\n",
       "ESFJ     42    0%\n",
       "ESTJ     39    0%"
      ]
     },
     "execution_count": 1559,
     "metadata": {},
     "output_type": "execute_result"
    }
   ],
   "source": [
    "personality_shares.sort_values(by=['posts'], ascending = False)"
   ]
  },
  {
   "cell_type": "code",
   "execution_count": 1560,
   "metadata": {},
   "outputs": [],
   "source": [
    "# map each personality type to a number\n",
    "\n",
    "mbti['type_num'] = mbti.type.map({\n",
    "                                'INFP':0, 'INFJ':1, 'INTP':2, 'INTJ': 3,\n",
    "                                'ENTP':4, 'ENFP':5, 'ISTP':6, 'ISFP': 7,\n",
    "                                'ENTJ':8, 'ISTJ':9, 'ENFJ':10, 'ISFJ': 11,\n",
    "                                'ESTP':12, 'ESFP':13, 'ESFJ':14, 'ESTJ': 15\n",
    "                                }, )"
   ]
  },
  {
   "cell_type": "markdown",
   "metadata": {},
   "source": [
    "#### Review final table"
   ]
  },
  {
   "cell_type": "code",
   "execution_count": 1561,
   "metadata": {
    "scrolled": true
   },
   "outputs": [
    {
     "data": {
      "text/plain": [
       "type                        0\n",
       "posts                       0\n",
       "textblob_posts              0\n",
       "special_characters          0\n",
       "english                     0\n",
       "e                           0\n",
       "n                           0\n",
       "t                           0\n",
       "j                           0\n",
       "total_length                0\n",
       "links_count                 0\n",
       "youtube_count               0\n",
       "reddit_count                0\n",
       "img_count                   0\n",
       "exclamation_count           0\n",
       "triple_exclamation_count    0\n",
       "ellipses_count              0\n",
       "question_count              0\n",
       "me_count                    0\n",
       "you_count                   0\n",
       "we_count                    0\n",
       "like_count                  0\n",
       "love_count                  0\n",
       "lol_count                   0\n",
       "sentiment                   0\n",
       "type_num                    0\n",
       "dtype: int64"
      ]
     },
     "execution_count": 1561,
     "metadata": {},
     "output_type": "execute_result"
    }
   ],
   "source": [
    "# check for nulls \n",
    "\n",
    "mbti.isnull().sum()"
   ]
  },
  {
   "cell_type": "code",
   "execution_count": 1562,
   "metadata": {
    "scrolled": true
   },
   "outputs": [
    {
     "data": {
      "text/html": [
       "<div>\n",
       "<style scoped>\n",
       "    .dataframe tbody tr th:only-of-type {\n",
       "        vertical-align: middle;\n",
       "    }\n",
       "\n",
       "    .dataframe tbody tr th {\n",
       "        vertical-align: top;\n",
       "    }\n",
       "\n",
       "    .dataframe thead th {\n",
       "        text-align: right;\n",
       "    }\n",
       "</style>\n",
       "<table border=\"1\" class=\"dataframe\">\n",
       "  <thead>\n",
       "    <tr style=\"text-align: right;\">\n",
       "      <th></th>\n",
       "      <th>type</th>\n",
       "      <th>posts</th>\n",
       "      <th>textblob_posts</th>\n",
       "      <th>special_characters</th>\n",
       "      <th>english</th>\n",
       "      <th>e</th>\n",
       "      <th>n</th>\n",
       "      <th>t</th>\n",
       "      <th>j</th>\n",
       "      <th>total_length</th>\n",
       "      <th>...</th>\n",
       "      <th>ellipses_count</th>\n",
       "      <th>question_count</th>\n",
       "      <th>me_count</th>\n",
       "      <th>you_count</th>\n",
       "      <th>we_count</th>\n",
       "      <th>like_count</th>\n",
       "      <th>love_count</th>\n",
       "      <th>lol_count</th>\n",
       "      <th>sentiment</th>\n",
       "      <th>type_num</th>\n",
       "    </tr>\n",
       "  </thead>\n",
       "  <tbody>\n",
       "    <tr>\n",
       "      <th>0</th>\n",
       "      <td>INFJ</td>\n",
       "      <td>http://www.youtube.com/ watch?v=qsxhcwe3krw|ht...</td>\n",
       "      <td>(h, t, t, p, :, /, /, w, w, w, ., y, o, u, t, ...</td>\n",
       "      <td></td>\n",
       "      <td>1</td>\n",
       "      <td>0</td>\n",
       "      <td>1</td>\n",
       "      <td>0</td>\n",
       "      <td>1</td>\n",
       "      <td>4577</td>\n",
       "      <td>...</td>\n",
       "      <td>15</td>\n",
       "      <td>18</td>\n",
       "      <td>10</td>\n",
       "      <td>12</td>\n",
       "      <td>0</td>\n",
       "      <td>3</td>\n",
       "      <td>0</td>\n",
       "      <td>0</td>\n",
       "      <td>15</td>\n",
       "      <td>1</td>\n",
       "    </tr>\n",
       "    <tr>\n",
       "      <th>1</th>\n",
       "      <td>ENTP</td>\n",
       "      <td>i'm finding the lack of me in these posts very...</td>\n",
       "      <td>(i, ', m,  , f, i, n, d, i, n, g,  , t, h, e, ...</td>\n",
       "      <td></td>\n",
       "      <td>1</td>\n",
       "      <td>1</td>\n",
       "      <td>1</td>\n",
       "      <td>1</td>\n",
       "      <td>0</td>\n",
       "      <td>6963</td>\n",
       "      <td>...</td>\n",
       "      <td>19</td>\n",
       "      <td>5</td>\n",
       "      <td>67</td>\n",
       "      <td>24</td>\n",
       "      <td>5</td>\n",
       "      <td>15</td>\n",
       "      <td>2</td>\n",
       "      <td>1</td>\n",
       "      <td>12</td>\n",
       "      <td>4</td>\n",
       "    </tr>\n",
       "    <tr>\n",
       "      <th>2</th>\n",
       "      <td>INTP</td>\n",
       "      <td>good one  _____   https://www.youtube.com/ wat...</td>\n",
       "      <td>(g, o, o, d,  , o, n, e,  ,  , _, _, _, _, _, ...</td>\n",
       "      <td></td>\n",
       "      <td>1</td>\n",
       "      <td>0</td>\n",
       "      <td>1</td>\n",
       "      <td>1</td>\n",
       "      <td>0</td>\n",
       "      <td>5171</td>\n",
       "      <td>...</td>\n",
       "      <td>13</td>\n",
       "      <td>12</td>\n",
       "      <td>19</td>\n",
       "      <td>19</td>\n",
       "      <td>2</td>\n",
       "      <td>2</td>\n",
       "      <td>1</td>\n",
       "      <td>0</td>\n",
       "      <td>17</td>\n",
       "      <td>2</td>\n",
       "    </tr>\n",
       "    <tr>\n",
       "      <th>3</th>\n",
       "      <td>INTJ</td>\n",
       "      <td>dear intp,   i enjoyed our conversation the ot...</td>\n",
       "      <td>(d, e, a, r,  , i, n, t, p, ,,  ,  ,  , i,  , ...</td>\n",
       "      <td></td>\n",
       "      <td>1</td>\n",
       "      <td>0</td>\n",
       "      <td>1</td>\n",
       "      <td>1</td>\n",
       "      <td>1</td>\n",
       "      <td>6174</td>\n",
       "      <td>...</td>\n",
       "      <td>26</td>\n",
       "      <td>11</td>\n",
       "      <td>45</td>\n",
       "      <td>22</td>\n",
       "      <td>12</td>\n",
       "      <td>8</td>\n",
       "      <td>5</td>\n",
       "      <td>5</td>\n",
       "      <td>11</td>\n",
       "      <td>3</td>\n",
       "    </tr>\n",
       "    <tr>\n",
       "      <th>4</th>\n",
       "      <td>ENTJ</td>\n",
       "      <td>you're fired.|that's another silly misconcepti...</td>\n",
       "      <td>(y, o, u, ', r, e,  , f, i, r, e, d, ., |, t, ...</td>\n",
       "      <td></td>\n",
       "      <td>1</td>\n",
       "      <td>1</td>\n",
       "      <td>1</td>\n",
       "      <td>1</td>\n",
       "      <td>1</td>\n",
       "      <td>6016</td>\n",
       "      <td>...</td>\n",
       "      <td>21</td>\n",
       "      <td>10</td>\n",
       "      <td>24</td>\n",
       "      <td>15</td>\n",
       "      <td>5</td>\n",
       "      <td>7</td>\n",
       "      <td>2</td>\n",
       "      <td>2</td>\n",
       "      <td>6</td>\n",
       "      <td>8</td>\n",
       "    </tr>\n",
       "  </tbody>\n",
       "</table>\n",
       "<p>5 rows × 26 columns</p>\n",
       "</div>"
      ],
      "text/plain": [
       "   type                                              posts  \\\n",
       "0  INFJ  http://www.youtube.com/ watch?v=qsxhcwe3krw|ht...   \n",
       "1  ENTP  i'm finding the lack of me in these posts very...   \n",
       "2  INTP  good one  _____   https://www.youtube.com/ wat...   \n",
       "3  INTJ  dear intp,   i enjoyed our conversation the ot...   \n",
       "4  ENTJ  you're fired.|that's another silly misconcepti...   \n",
       "\n",
       "                                      textblob_posts special_characters  \\\n",
       "0  (h, t, t, p, :, /, /, w, w, w, ., y, o, u, t, ...                      \n",
       "1  (i, ', m,  , f, i, n, d, i, n, g,  , t, h, e, ...                      \n",
       "2  (g, o, o, d,  , o, n, e,  ,  , _, _, _, _, _, ...                      \n",
       "3  (d, e, a, r,  , i, n, t, p, ,,  ,  ,  , i,  , ...                      \n",
       "4  (y, o, u, ', r, e,  , f, i, r, e, d, ., |, t, ...                      \n",
       "\n",
       "   english  e  n  t  j  total_length    ...     ellipses_count  \\\n",
       "0        1  0  1  0  1          4577    ...                 15   \n",
       "1        1  1  1  1  0          6963    ...                 19   \n",
       "2        1  0  1  1  0          5171    ...                 13   \n",
       "3        1  0  1  1  1          6174    ...                 26   \n",
       "4        1  1  1  1  1          6016    ...                 21   \n",
       "\n",
       "   question_count  me_count  you_count  we_count  like_count  love_count  \\\n",
       "0              18        10         12         0           3           0   \n",
       "1               5        67         24         5          15           2   \n",
       "2              12        19         19         2           2           1   \n",
       "3              11        45         22        12           8           5   \n",
       "4              10        24         15         5           7           2   \n",
       "\n",
       "   lol_count  sentiment  type_num  \n",
       "0          0         15         1  \n",
       "1          1         12         4  \n",
       "2          0         17         2  \n",
       "3          5         11         3  \n",
       "4          2          6         8  \n",
       "\n",
       "[5 rows x 26 columns]"
      ]
     },
     "execution_count": 1562,
     "metadata": {},
     "output_type": "execute_result"
    }
   ],
   "source": [
    "# view final dataset\n",
    "\n",
    "mbti.head()"
   ]
  },
  {
   "cell_type": "markdown",
   "metadata": {},
   "source": [
    "## Step 3: Run & Evaluate Different Models"
   ]
  },
  {
   "cell_type": "markdown",
   "metadata": {},
   "source": [
    "### Split Data"
   ]
  },
  {
   "cell_type": "code",
   "execution_count": 1653,
   "metadata": {
    "scrolled": true
   },
   "outputs": [],
   "source": [
    "\n",
    "X_all = mbti.drop(['type', 'reddit_count', 'total_length', 'english','type_num', 'textblob_posts', 'special_characters', 'e', 'n', 't', 'j'], axis=1)\n",
    "X = mbti.drop(['type', 'reddit_count', 'total_length', 'english','type_num', 'textblob_posts', 'posts', 'special_characters', 'e', 'n', 't', 'j'], axis=1)\n",
    "y = mbti['type_num']\n",
    "\n",
    "X_train, X_test, y_train, y_test, X_all_train, X_all_test = train_test_split(X, y, X_all, test_size = 0.25, random_state=123)\n"
   ]
  },
  {
   "cell_type": "code",
   "execution_count": 1654,
   "metadata": {},
   "outputs": [],
   "source": [
    "\n",
    "compare_models = pd.DataFrame(columns=['model', 'accuracy'])\n",
    "\n",
    "model = 'Base'\n",
    "accuracy = round((personality_shares.posts / total_count).max(), 4)\n",
    "\n",
    "compare_models = compare_models.append({'model': model, 'accuracy': accuracy}, ignore_index=True)\n"
   ]
  },
  {
   "cell_type": "markdown",
   "metadata": {},
   "source": [
    "### Logistic Regression - features only"
   ]
  },
  {
   "cell_type": "code",
   "execution_count": 1655,
   "metadata": {},
   "outputs": [
    {
     "name": "stderr",
     "output_type": "stream",
     "text": [
      "/Applications/anaconda3/lib/python3.7/site-packages/sklearn/linear_model/logistic.py:433: FutureWarning: Default solver will be changed to 'lbfgs' in 0.22. Specify a solver to silence this warning.\n",
      "  FutureWarning)\n",
      "/Applications/anaconda3/lib/python3.7/site-packages/sklearn/linear_model/logistic.py:460: FutureWarning: Default multi_class will be changed to 'auto' in 0.22. Specify the multi_class option to silence this warning.\n",
      "  \"this warning.\", FutureWarning)\n"
     ]
    },
    {
     "name": "stdout",
     "output_type": "stream",
     "text": [
      "0.2577224527431996\n"
     ]
    }
   ],
   "source": [
    "# run model\n",
    "\n",
    "logreg = LogisticRegression()\n",
    "logreg.fit(X_train, y_train)\n",
    "\n",
    "y_pred = logreg.predict(X_test)\n",
    "\n",
    "model = 'Logistic Regression - features only'\n",
    "accuracy = metrics.accuracy_score(y_test, y_pred)\n",
    "\n",
    "# print results\n",
    "\n",
    "compare_models = compare_models.append({'model': model, 'accuracy': accuracy}, ignore_index=True)\n",
    "print(accuracy)\n"
   ]
  },
  {
   "cell_type": "markdown",
   "metadata": {},
   "source": [
    "### Logistic Regression - features + text"
   ]
  },
  {
   "cell_type": "code",
   "execution_count": 1656,
   "metadata": {},
   "outputs": [
    {
     "name": "stderr",
     "output_type": "stream",
     "text": [
      "/Applications/anaconda3/lib/python3.7/site-packages/sklearn/linear_model/logistic.py:433: FutureWarning: Default solver will be changed to 'lbfgs' in 0.22. Specify a solver to silence this warning.\n",
      "  FutureWarning)\n",
      "/Applications/anaconda3/lib/python3.7/site-packages/sklearn/linear_model/logistic.py:460: FutureWarning: Default multi_class will be changed to 'auto' in 0.22. Specify the multi_class option to silence this warning.\n",
      "  \"this warning.\", FutureWarning)\n"
     ]
    },
    {
     "name": "stdout",
     "output_type": "stream",
     "text": [
      "0.6007376671277086\n"
     ]
    }
   ],
   "source": [
    "# run model\n",
    "\n",
    "vect = CountVectorizer()\n",
    "\n",
    "X_train_txt = vect.fit_transform(X_all_train.posts)\n",
    "extra = sp.sparse.csr_matrix(X_all_train.drop('posts', axis=1).astype(float))\n",
    "X_train_extra = sp.sparse.hstack((X_train_txt, extra))\n",
    "\n",
    "X_test_txt = vect.transform(X_all_test.posts)\n",
    "extra = sp.sparse.csr_matrix(X_all_test.drop('posts', axis=1).astype(float))\n",
    "X_test_extra = sp.sparse.hstack((X_test_txt, extra))\n",
    "\n",
    "logreg = LogisticRegression(C=1e9)\n",
    "logreg.fit(X_train_extra, y_train)\n",
    "\n",
    "y_pred = logreg.predict(X_test_extra)\n",
    "\n",
    "model = 'Logistic Regression w/ text'\n",
    "accuracy = metrics.accuracy_score(y_test, y_pred)\n",
    "\n",
    "# print results\n",
    "\n",
    "compare_models = compare_models.append({'model': model, 'accuracy': accuracy}, ignore_index=True)\n",
    "print(accuracy)\n"
   ]
  },
  {
   "cell_type": "markdown",
   "metadata": {},
   "source": [
    "### Logistic Regression - features + text with NLP"
   ]
  },
  {
   "cell_type": "code",
   "execution_count": 1657,
   "metadata": {},
   "outputs": [
    {
     "name": "stdout",
     "output_type": "stream",
     "text": [
      "0.6496081143384048\n"
     ]
    }
   ],
   "source": [
    "# run model\n",
    "\n",
    "vect = CountVectorizer(stop_words='english', ngram_range=(1,2), min_df=2)\n",
    "\n",
    "X_train_txt = vect.fit_transform(X_all_train.posts)\n",
    "extra = sp.sparse.csr_matrix(X_all_train.drop('posts', axis=1).astype(float))\n",
    "X_train_extra = sp.sparse.hstack((X_train_txt, extra))\n",
    "\n",
    "X_test_txt = vect.transform(X_all_test.posts)\n",
    "extra = sp.sparse.csr_matrix(X_all_test.drop('posts', axis=1).astype(float))\n",
    "X_test_extra = sp.sparse.hstack((X_test_txt, extra))\n",
    "\n",
    "logreg = LogisticRegression(C=1e9)\n",
    "logreg.fit(X_train_extra, y_train)\n",
    "\n",
    "y_pred = logreg.predict(X_test_extra)\n",
    "\n",
    "model = 'Logistic Regression w/ NLP'\n",
    "accuracy = metrics.accuracy_score(y_test, y_pred)\n",
    "\n",
    "# print results\n",
    "\n",
    "compare_models = compare_models.append({'model': model, 'accuracy': accuracy}, ignore_index=True)\n",
    "print(accuracy)\n"
   ]
  },
  {
   "cell_type": "markdown",
   "metadata": {},
   "source": [
    "### Random Forest"
   ]
  },
  {
   "cell_type": "code",
   "execution_count": 1658,
   "metadata": {},
   "outputs": [
    {
     "name": "stdout",
     "output_type": "stream",
     "text": [
      "0.23420931304748732\n"
     ]
    }
   ],
   "source": [
    "# run model\n",
    "\n",
    "random_forest = RandomForestClassifier(n_estimators=400)\n",
    "random_forest.fit(X_train, y_train)\n",
    "\n",
    "y_pred = random_forest.predict(X_test)\n",
    "\n",
    "model = 'Random Forest'\n",
    "accuracy = metrics.accuracy_score(y_test, y_pred)\n",
    "\n",
    "# print results\n",
    "\n",
    "compare_models = compare_models.append({'model': model, 'accuracy': accuracy}, ignore_index=True)\n",
    "print(accuracy)\n"
   ]
  },
  {
   "cell_type": "markdown",
   "metadata": {},
   "source": [
    "#### Examine importance of difference features"
   ]
  },
  {
   "cell_type": "code",
   "execution_count": 1672,
   "metadata": {
    "scrolled": true
   },
   "outputs": [
    {
     "data": {
      "image/png": "[encoded data removed]",
      "text/plain": [
       "<Figure size 432x288 with 1 Axes>"
      ]
     },
     "metadata": {
      "needs_background": "light"
     },
     "output_type": "display_data"
    }
   ],
   "source": [
    "# Feature Importance\n",
    "feature_importance = pd.DataFrame({'imp': random_forest.feature_importances_, 'col': X.columns})\n",
    "feature_importance.sort_values(['imp', 'col'])\n",
    "_ = feature_importance.plot(kind='barh', x='col', y='imp')\n",
    "\n"
   ]
  },
  {
   "cell_type": "markdown",
   "metadata": {},
   "source": [
    "### KNN Classification"
   ]
  },
  {
   "cell_type": "code",
   "execution_count": 1660,
   "metadata": {
    "scrolled": false
   },
   "outputs": [
    {
     "name": "stdout",
     "output_type": "stream",
     "text": [
      "0.24389119409866297\n"
     ]
    }
   ],
   "source": [
    "\n",
    "knn = KNeighborsClassifier(n_neighbors = 200)\n",
    "knn.fit(X_train, y_train)\n",
    "\n",
    "y_pred = knn.predict(X_test)\n",
    "\n",
    "model = 'KNN'\n",
    "accuracy = metrics.accuracy_score(y_test, y_pred)\n",
    "\n",
    "compare_models = compare_models.append({'model': model, 'accuracy': accuracy}, ignore_index=True)\n",
    "print(accuracy)\n"
   ]
  },
  {
   "cell_type": "markdown",
   "metadata": {},
   "source": [
    "### Cat Boost"
   ]
  },
  {
   "cell_type": "code",
   "execution_count": 1661,
   "metadata": {
    "scrolled": true
   },
   "outputs": [
    {
     "name": "stdout",
     "output_type": "stream",
     "text": [
      "0:\tlearn: 4.3290821\ttest: 4.2635031\tbest: 4.2635031 (0)\ttotal: 101ms\tremaining: 910ms\n",
      "1:\tlearn: 4.1433812\ttest: 4.0774059\tbest: 4.0774059 (1)\ttotal: 135ms\tremaining: 541ms\n",
      "2:\tlearn: 3.9865961\ttest: 3.9203493\tbest: 3.9203493 (2)\ttotal: 148ms\tremaining: 346ms\n",
      "3:\tlearn: 3.8548432\ttest: 3.7883858\tbest: 3.7883858 (3)\ttotal: 159ms\tremaining: 238ms\n",
      "4:\tlearn: 3.7447092\ttest: 3.6783553\tbest: 3.6783553 (4)\ttotal: 166ms\tremaining: 166ms\n",
      "5:\tlearn: 3.6530580\ttest: 3.5871745\tbest: 3.5871745 (5)\ttotal: 173ms\tremaining: 115ms\n",
      "6:\tlearn: 3.5771251\ttest: 3.5115841\tbest: 3.5115841 (6)\ttotal: 181ms\tremaining: 77.6ms\n",
      "7:\tlearn: 3.5141363\ttest: 3.4491924\tbest: 3.4491924 (7)\ttotal: 193ms\tremaining: 48.3ms\n",
      "8:\tlearn: 3.4624774\ttest: 3.3980206\tbest: 3.3980206 (8)\ttotal: 200ms\tremaining: 22.3ms\n",
      "9:\tlearn: 3.4200344\ttest: 3.3561063\tbest: 3.3561063 (9)\ttotal: 208ms\tremaining: 0us\n",
      "\n",
      "bestTest = 3.356106252\n",
      "bestIteration = 9\n",
      "\n",
      "0.16228676809589673\n"
     ]
    }
   ],
   "source": [
    "categorical_features_indices = np.where(X.dtypes != np.float)[0]\n",
    "\n",
    "cb_model = CatBoostRegressor(iterations=10, depth=1, learning_rate=0.1)\n",
    "\n",
    "cb_model.fit(X_train, y_train\n",
    "          , cat_features = categorical_features_indices\n",
    "          , eval_set=(X_test, y_test) \n",
    "          , use_best_model = True\n",
    "          #, plot = True \n",
    "         )\n",
    "\n",
    "y_pred = cb_model.predict(X_test).round().astype(int)\n",
    "\n",
    "model = 'Cat Boost'\n",
    "accuracy = metrics.accuracy_score(y_test, y_pred)\n",
    "\n",
    "compare_models = compare_models.append({'model': model, 'accuracy': accuracy}, ignore_index=True)\n",
    "print(accuracy)"
   ]
  },
  {
   "cell_type": "markdown",
   "metadata": {},
   "source": [
    "#### Compare models & visualize relative accuracy"
   ]
  },
  {
   "cell_type": "code",
   "execution_count": 1664,
   "metadata": {},
   "outputs": [],
   "source": [
    "# drop a model if we need to re-run\n",
    "# compare_models = compare_models[compare_models['model'] != 'Cat Boost']"
   ]
  },
  {
   "cell_type": "code",
   "execution_count": 1665,
   "metadata": {
    "scrolled": false
   },
   "outputs": [
    {
     "data": {
      "text/html": [
       "<div>\n",
       "<style scoped>\n",
       "    .dataframe tbody tr th:only-of-type {\n",
       "        vertical-align: middle;\n",
       "    }\n",
       "\n",
       "    .dataframe tbody tr th {\n",
       "        vertical-align: top;\n",
       "    }\n",
       "\n",
       "    .dataframe thead th {\n",
       "        text-align: right;\n",
       "    }\n",
       "</style>\n",
       "<table border=\"1\" class=\"dataframe\">\n",
       "  <thead>\n",
       "    <tr style=\"text-align: right;\">\n",
       "      <th></th>\n",
       "      <th>model</th>\n",
       "      <th>accuracy</th>\n",
       "    </tr>\n",
       "  </thead>\n",
       "  <tbody>\n",
       "    <tr>\n",
       "      <th>3</th>\n",
       "      <td>Logistic Regression w/ NLP</td>\n",
       "      <td>0.649608</td>\n",
       "    </tr>\n",
       "    <tr>\n",
       "      <th>2</th>\n",
       "      <td>Logistic Regression w/ text</td>\n",
       "      <td>0.600738</td>\n",
       "    </tr>\n",
       "    <tr>\n",
       "      <th>1</th>\n",
       "      <td>Logistic Regression - features only</td>\n",
       "      <td>0.257722</td>\n",
       "    </tr>\n",
       "    <tr>\n",
       "      <th>5</th>\n",
       "      <td>KNN</td>\n",
       "      <td>0.243891</td>\n",
       "    </tr>\n",
       "    <tr>\n",
       "      <th>4</th>\n",
       "      <td>Random Forest</td>\n",
       "      <td>0.234209</td>\n",
       "    </tr>\n",
       "    <tr>\n",
       "      <th>0</th>\n",
       "      <td>Base</td>\n",
       "      <td>0.211200</td>\n",
       "    </tr>\n",
       "    <tr>\n",
       "      <th>6</th>\n",
       "      <td>Cat Boost</td>\n",
       "      <td>0.162287</td>\n",
       "    </tr>\n",
       "  </tbody>\n",
       "</table>\n",
       "</div>"
      ],
      "text/plain": [
       "                                 model  accuracy\n",
       "3           Logistic Regression w/ NLP  0.649608\n",
       "2          Logistic Regression w/ text  0.600738\n",
       "1  Logistic Regression - features only  0.257722\n",
       "5                                  KNN  0.243891\n",
       "4                        Random Forest  0.234209\n",
       "0                                 Base  0.211200\n",
       "6                            Cat Boost  0.162287"
      ]
     },
     "execution_count": 1665,
     "metadata": {},
     "output_type": "execute_result"
    }
   ],
   "source": [
    "compare_models.sort_values(by=['accuracy'], ascending = False)"
   ]
  },
  {
   "cell_type": "code",
   "execution_count": 1666,
   "metadata": {
    "scrolled": true
   },
   "outputs": [
    {
     "data": {
      "text/plain": [
       "<matplotlib.axes._subplots.AxesSubplot at 0x1c792363c8>"
      ]
     },
     "execution_count": 1666,
     "metadata": {},
     "output_type": "execute_result"
    },
    {
     "data": {
      "image/png": "[encoded data removed]",
      "text/plain": [
       "<Figure size 432x288 with 1 Axes>"
      ]
     },
     "metadata": {
      "needs_background": "light"
     },
     "output_type": "display_data"
    }
   ],
   "source": [
    "\n",
    "compare_models.sort_values(by=['accuracy'], ascending = False).plot(kind='bar', x='model', y='accuracy')\n"
   ]
  },
  {
   "cell_type": "markdown",
   "metadata": {},
   "source": [
    "# End"
   ]
  },
  {
   "cell_type": "code",
   "execution_count": null,
   "metadata": {},
   "outputs": [],
   "source": []
  }
 ],
 "metadata": {
  "kernelspec": {
   "display_name": "Python 3",
   "language": "python",
   "name": "python3"
  },
  "language_info": {
   "codemirror_mode": {
    "name": "ipython",
    "version": 3
   },
   "file_extension": ".py",
   "mimetype": "text/x-python",
   "name": "python",
   "nbconvert_exporter": "python",
   "pygments_lexer": "ipython3",
   "version": "3.7.1"
  }
 },
 "nbformat": 4,
 "nbformat_minor": 2
}
